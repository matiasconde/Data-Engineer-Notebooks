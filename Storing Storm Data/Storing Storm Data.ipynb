{
 "cells": [
  {
   "cell_type": "code",
   "execution_count": null,
   "metadata": {},
   "outputs": [],
   "source": [
    ">>> import psycopg2\n",
    "from datetime import date\n",
    "import csv\n",
    "\n",
    "conn = psycopg2.connect(dbname=\"postgres\",user=\"postgres\")\n",
    "cur = conn.cursor()\n",
    "\n",
    "cur.execute(\"CREATE TABLE storm(FID integer PRIMARY KEY,DATE timestamp,BTID integer,NAME text,LAT real,LONG real,WIND_KTS real,PRESSURE real,CAT char(2),BASIN text,Shape_Leng real);\")\n",
    "\n",
    "cur.execute(\"\"\"SELECT table_name FROM information_schema.tables\n",
    "WHERE table_schema = 'public'\"\"\")\n",
    "for table in cur.fetchall(): print(table)\n",
    "\n",
    "cur.execute(\"CREATE USER data_basic WITH PASSWORD '1234' NOSUPERUSER\")\n",
    "conn.commit()\n",
    "cur.execute(\"REVOKE ALL ON storm FROM data_basic\")\n",
    "conn.commit()\n",
    "cur.execute(\"\"\"CREATE GROUP generic NOLOGIN; REVOKE ALL ON storm FROM generic;GRANT SELECT, INSERT, UPDATE ON storm TO generic; GRANT generic TO data_basic;\"\"\")\n",
    "conn.commit()\n",
    " "
   ]
  }
 ],
 "metadata": {
  "kernelspec": {
   "display_name": "Python 3",
   "language": "python",
   "name": "python3"
  },
  "language_info": {
   "codemirror_mode": {
    "name": "ipython",
    "version": 3
   },
   "file_extension": ".py",
   "mimetype": "text/x-python",
   "name": "python",
   "nbconvert_exporter": "python",
   "pygments_lexer": "ipython3",
   "version": "3.6.4"
  }
 },
 "nbformat": 4,
 "nbformat_minor": 2
}
