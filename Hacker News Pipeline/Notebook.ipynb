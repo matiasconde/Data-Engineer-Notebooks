{
 "cells": [
  {
   "cell_type": "markdown",
   "metadata": {
    "collapsed": true
   },
   "source": [
    "### Finding the top 100 keywords in Hacker News 2014 with a pipeline"
   ]
  },
  {
   "cell_type": "code",
   "execution_count": 1,
   "metadata": {
    "collapsed": true
   },
   "outputs": [],
   "source": [
    "from pipeline import Pipeline, build_csv\n",
    "from datetime import datetime\n",
    "import json\n",
    "import io\n",
    "import csv\n",
    "import string\n",
    "from stop_words import stop_words"
   ]
  },
  {
   "cell_type": "code",
   "execution_count": 2,
   "metadata": {
    "collapsed": true
   },
   "outputs": [],
   "source": [
    "pipeline = Pipeline()"
   ]
  },
  {
   "cell_type": "code",
   "execution_count": 3,
   "metadata": {
    "collapsed": false
   },
   "outputs": [],
   "source": [
    "@pipeline.task()\n",
    "def file_to_json():\n",
    "    with open('hn_stories_2014.json',\"r\") as f:\n",
    "        stories = json.load(f)\n",
    "        return stories[\"stories\"]\n",
    "\n",
    "@pipeline.task(depends_on = file_to_json)\n",
    "def filter_stories(stories):\n",
    "    def is_popular(story):\n",
    "        return story['points'] > 50 and story['num_comments'] > 1 and not story['title'].startswith('Ask HN')\n",
    "    \n",
    "    return (\n",
    "        story for story in stories\n",
    "        if is_popular(story)\n",
    "    )\n",
    "            \n",
    "@pipeline.task(depends_on = filter_stories)\n",
    "def json_to_csv(stories):\n",
    "    lines = []\n",
    "    for story in stories:\n",
    "        lines.append((story[\"objectID\"],\\\n",
    "      datetime.strptime(story['created_at']\\\n",
    "                  , \"%Y-%m-%dT%H:%M:%SZ\"),\\\n",
    "                         story[\"url\"],\\\n",
    "                   story[\"points\"],\\\n",
    "                   story[\"title\"]))\n",
    "    return build_csv(lines, header=[\n",
    "        'objectID', 'created_at', 'url',\\\n",
    "        'points','title'],file=io.StringIO())\n",
    "\n",
    "@pipeline.task(depends_on = json_to_csv)\n",
    "def extract_titles(csv_file):\n",
    "    reader = csv.reader(csv_file)\n",
    "    header = next(reader)\n",
    "    idx = header.index(\"title\")\n",
    "    for line in reader:\n",
    "        yield line[idx]\n",
    "        \n",
    "@pipeline.task(depends_on = extract_titles)\n",
    "def clean_titles(titles):\n",
    "    for title in titles:\n",
    "        title = title.lower()\n",
    "        title = ''.join(c for c in title if c not in string.punctuation)\n",
    "        yield title\n",
    "\n",
    "@pipeline.task(depends_on = clean_titles)\n",
    "def build_keyword_dictionary(titles):\n",
    "    word_freq = {}\n",
    "    for title in titles:\n",
    "        words = title.split(\" \")     \n",
    "        for word in words:\n",
    "            if word and word not in stop_words:\n",
    "                if word not in word_freq:\n",
    "                    word_freq[word] = 1\n",
    "                word_freq[word] += 1\n",
    "    return word_freq\n",
    "\n",
    "@pipeline.task(depends_on = build_keyword_dictionary)\n",
    "def top_words(word_freq):\n",
    "    freq_tuple = [\n",
    "        (word, word_freq[word])\n",
    "        for word in sorted(word_freq, key=word_freq.get, reverse=True)\n",
    "    ]\n",
    "    return freq_tuple[:100]              \n"
   ]
  },
  {
   "cell_type": "code",
   "execution_count": 4,
   "metadata": {
    "collapsed": false
   },
   "outputs": [
    {
     "name": "stdout",
     "output_type": "stream",
     "text": [
      "[('new', 186), ('google', 168), ('bitcoin', 102), ('open', 93), ('programming', 91), ('web', 89), ('data', 86), ('video', 80), ('python', 76), ('code', 73), ('facebook', 72), ('released', 72), ('using', 71), ('javascript', 66), ('2013', 66), ('free', 65), ('source', 65), ('game', 64), ('internet', 63), ('microsoft', 60), ('c', 60), ('linux', 59), ('app', 58), ('pdf', 56), ('work', 55), ('language', 55), ('software', 53), ('2014', 53), ('startup', 52), ('use', 51), ('apple', 51), ('make', 51), ('security', 49), ('yc', 49), ('time', 49), ('github', 46), ('nsa', 46), ('windows', 45), ('world', 42), ('way', 42), ('like', 42), ('1', 41), ('project', 41), ('computer', 41), ('heartbleed', 41), ('ios', 38), ('git', 38), ('dont', 38), ('users', 38), ('design', 38), ('ceo', 37), ('os', 37), ('twitter', 37), ('developer', 37), ('life', 37), ('vs', 37), ('big', 36), ('day', 36), ('online', 35), ('android', 35), ('years', 34), ('court', 34), ('simple', 34), ('mt', 33), ('api', 33), ('apps', 33), ('learning', 33), ('browser', 33), ('says', 33), ('guide', 33), ('firefox', 32), ('fast', 32), ('site', 32), ('server', 32), ('problem', 32), ('engine', 32), ('mozilla', 32), ('gox', 32), ('amazon', 31), ('year', 31), ('introducing', 31), ('built', 30), ('people', 30), ('stop', 30), ('better', 30), ('support', 30), ('text', 30), ('million', 30), ('3', 29), ('development', 29), ('tech', 29), ('does', 29), ('2048', 28), ('best', 28), ('inside', 28), ('money', 28), ('billion', 28), ('just', 28), ('developers', 28), ('chrome', 28)]\n"
     ]
    }
   ],
   "source": [
    "ran = pipeline.run()\n",
    "print(ran[top_words])"
   ]
  },
  {
   "cell_type": "markdown",
   "metadata": {
    "collapsed": true
   },
   "source": [
    "###### check the api for updated data\n",
    "\n",
    "https://hn.algolia.com/api"
   ]
  },
  {
   "cell_type": "code",
   "execution_count": null,
   "metadata": {
    "collapsed": true
   },
   "outputs": [],
   "source": []
  }
 ],
 "metadata": {
  "anaconda-cloud": {},
  "kernelspec": {
   "display_name": "Python 3",
   "language": "python",
   "name": "python3"
  },
  "language_info": {
   "codemirror_mode": {
    "name": "ipython",
    "version": 3
   },
   "file_extension": ".py",
   "mimetype": "text/x-python",
   "name": "python",
   "nbconvert_exporter": "python",
   "pygments_lexer": "ipython3",
   "version": "3.4.3"
  }
 },
 "nbformat": 4,
 "nbformat_minor": 1
}
