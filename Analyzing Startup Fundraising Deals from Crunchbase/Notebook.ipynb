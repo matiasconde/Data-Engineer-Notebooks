{
 "cells": [
  {
   "cell_type": "markdown",
   "metadata": {
    "collapsed": true
   },
   "source": [
    "###### Because of the memory constraint of 10 Mb and because the full dataset weight 10.3 Mb, we can't load all in pandas data frame since pandas requires 4 to 6 times amount of space in memory as the file does on disk (especially when there's many string columns). \n",
    "\n",
    "###### We gonna a need to load in chunks, 5000 (10 times less than the full data set which have 50000 rows):"
   ]
  },
  {
   "cell_type": "code",
   "execution_count": 1,
   "metadata": {
    "collapsed": false
   },
   "outputs": [
    {
     "data": {
      "text/html": [
       "<div>\n",
       "<style scoped>\n",
       "    .dataframe tbody tr th:only-of-type {\n",
       "        vertical-align: middle;\n",
       "    }\n",
       "\n",
       "    .dataframe tbody tr th {\n",
       "        vertical-align: top;\n",
       "    }\n",
       "\n",
       "    .dataframe thead th {\n",
       "        text-align: right;\n",
       "    }\n",
       "</style>\n",
       "<table border=\"1\" class=\"dataframe\">\n",
       "  <thead>\n",
       "    <tr style=\"text-align: right;\">\n",
       "      <th></th>\n",
       "      <th>company_permalink</th>\n",
       "      <th>company_name</th>\n",
       "      <th>company_category_code</th>\n",
       "      <th>company_country_code</th>\n",
       "      <th>company_state_code</th>\n",
       "      <th>company_region</th>\n",
       "      <th>company_city</th>\n",
       "      <th>investor_permalink</th>\n",
       "      <th>investor_name</th>\n",
       "      <th>investor_category_code</th>\n",
       "      <th>investor_country_code</th>\n",
       "      <th>investor_state_code</th>\n",
       "      <th>investor_region</th>\n",
       "      <th>investor_city</th>\n",
       "      <th>funding_round_type</th>\n",
       "      <th>funded_at</th>\n",
       "      <th>funded_month</th>\n",
       "      <th>funded_quarter</th>\n",
       "      <th>funded_year</th>\n",
       "      <th>raised_amount_usd</th>\n",
       "    </tr>\n",
       "  </thead>\n",
       "  <tbody>\n",
       "    <tr>\n",
       "      <th>0</th>\n",
       "      <td>/company/advercar</td>\n",
       "      <td>AdverCar</td>\n",
       "      <td>advertising</td>\n",
       "      <td>USA</td>\n",
       "      <td>CA</td>\n",
       "      <td>SF Bay</td>\n",
       "      <td>San Francisco</td>\n",
       "      <td>/company/1-800-flowers-com</td>\n",
       "      <td>1-800-FLOWERS.COM</td>\n",
       "      <td>NaN</td>\n",
       "      <td>USA</td>\n",
       "      <td>NY</td>\n",
       "      <td>New York</td>\n",
       "      <td>New York</td>\n",
       "      <td>series-a</td>\n",
       "      <td>2012-10-30</td>\n",
       "      <td>2012-10</td>\n",
       "      <td>2012-Q4</td>\n",
       "      <td>2012</td>\n",
       "      <td>2000000</td>\n",
       "    </tr>\n",
       "    <tr>\n",
       "      <th>1</th>\n",
       "      <td>/company/launchgram</td>\n",
       "      <td>LaunchGram</td>\n",
       "      <td>news</td>\n",
       "      <td>USA</td>\n",
       "      <td>CA</td>\n",
       "      <td>SF Bay</td>\n",
       "      <td>Mountain View</td>\n",
       "      <td>/company/10xelerator</td>\n",
       "      <td>10Xelerator</td>\n",
       "      <td>finance</td>\n",
       "      <td>USA</td>\n",
       "      <td>OH</td>\n",
       "      <td>Columbus</td>\n",
       "      <td>Columbus</td>\n",
       "      <td>other</td>\n",
       "      <td>2012-01-23</td>\n",
       "      <td>2012-01</td>\n",
       "      <td>2012-Q1</td>\n",
       "      <td>2012</td>\n",
       "      <td>20000</td>\n",
       "    </tr>\n",
       "    <tr>\n",
       "      <th>2</th>\n",
       "      <td>/company/utap</td>\n",
       "      <td>uTaP</td>\n",
       "      <td>messaging</td>\n",
       "      <td>USA</td>\n",
       "      <td>NaN</td>\n",
       "      <td>United States - Other</td>\n",
       "      <td>NaN</td>\n",
       "      <td>/company/10xelerator</td>\n",
       "      <td>10Xelerator</td>\n",
       "      <td>finance</td>\n",
       "      <td>USA</td>\n",
       "      <td>OH</td>\n",
       "      <td>Columbus</td>\n",
       "      <td>Columbus</td>\n",
       "      <td>other</td>\n",
       "      <td>2012-01-01</td>\n",
       "      <td>2012-01</td>\n",
       "      <td>2012-Q1</td>\n",
       "      <td>2012</td>\n",
       "      <td>20000</td>\n",
       "    </tr>\n",
       "  </tbody>\n",
       "</table>\n",
       "</div>"
      ],
      "text/plain": [
       "     company_permalink company_name company_category_code  \\\n",
       "0    /company/advercar     AdverCar           advertising   \n",
       "1  /company/launchgram   LaunchGram                  news   \n",
       "2        /company/utap         uTaP             messaging   \n",
       "\n",
       "  company_country_code company_state_code         company_region  \\\n",
       "0                  USA                 CA                 SF Bay   \n",
       "1                  USA                 CA                 SF Bay   \n",
       "2                  USA                NaN  United States - Other   \n",
       "\n",
       "    company_city          investor_permalink      investor_name  \\\n",
       "0  San Francisco  /company/1-800-flowers-com  1-800-FLOWERS.COM   \n",
       "1  Mountain View        /company/10xelerator        10Xelerator   \n",
       "2            NaN        /company/10xelerator        10Xelerator   \n",
       "\n",
       "  investor_category_code investor_country_code investor_state_code  \\\n",
       "0                    NaN                   USA                  NY   \n",
       "1                finance                   USA                  OH   \n",
       "2                finance                   USA                  OH   \n",
       "\n",
       "  investor_region investor_city funding_round_type   funded_at funded_month  \\\n",
       "0        New York      New York           series-a  2012-10-30      2012-10   \n",
       "1        Columbus      Columbus              other  2012-01-23      2012-01   \n",
       "2        Columbus      Columbus              other  2012-01-01      2012-01   \n",
       "\n",
       "  funded_quarter  funded_year  raised_amount_usd  \n",
       "0        2012-Q4         2012            2000000  \n",
       "1        2012-Q1         2012              20000  \n",
       "2        2012-Q1         2012              20000  "
      ]
     },
     "execution_count": 1,
     "metadata": {},
     "output_type": "execute_result"
    }
   ],
   "source": [
    "import pandas as pd\n",
    "import numpy as np\n",
    "import sqlite3\n",
    "%matplotlib inline\n",
    "\n",
    "# Insights:\n",
    "chunk_iter_3 = pd.read_csv(\"crunchbase-investments.csv\",\\\n",
    "                         chunksize = 3,\\\n",
    "                        encoding='ISO-8859-1')\n",
    "for chunk in chunk_iter_3:\n",
    "    df = chunk\n",
    "    break\n",
    "df"
   ]
  },
  {
   "cell_type": "markdown",
   "metadata": {},
   "source": [
    "###### Columns with redundant data: \"funded month\", \"funded year\", \"funded quarter\" as all the info about date foundation is in \"funded_at\"."
   ]
  },
  {
   "cell_type": "code",
   "execution_count": 2,
   "metadata": {
    "collapsed": false
   },
   "outputs": [
    {
     "name": "stdout",
     "output_type": "stream",
     "text": [
      "The total rows of the data set is:  52870\n",
      "Total memory usage for the data set:  57.01  Megabytes\n"
     ]
    }
   ],
   "source": [
    "info_cols = {}\n",
    "col_types = {}\n",
    "\n",
    "for chunk in chunk_iter_3:\n",
    "    columns = chunk.columns\n",
    "    for col in columns:\n",
    "        if col not in info_cols:\n",
    "            info_cols[col] = [0,0]\n",
    "            col_types[col] = str(chunk[col].dtype)\n",
    "    break\n",
    "\n",
    "chunk_iter = pd.read_csv(\"crunchbase-investments.csv\",\\\n",
    "                         chunksize = 5000,\\\n",
    "                        encoding='ISO-8859-1')\n",
    "\n",
    "total_memory = 0\n",
    "total_rows = 0\n",
    "\n",
    "for chunk in chunk_iter:\n",
    "    for col in columns:\n",
    "        info_cols[col][0] += chunk[col].isnull().sum()\n",
    "        memory = chunk[col].memory_usage(deep=True)\n",
    "        info_cols[col][1] += memory\n",
    "        total_memory += memory\n",
    "    total_rows += chunk.shape[0]\n",
    "        \n",
    "print(\"The total rows of the data set is: \", total_rows)\n",
    "print(\"Total memory usage for the data set: \",np.round(total_memory/(1024*1024),2),\" Megabytes\")"
   ]
  },
  {
   "cell_type": "code",
   "execution_count": 3,
   "metadata": {
    "collapsed": false
   },
   "outputs": [
    {
     "data": {
      "text/plain": [
       "{'company_category_code': [643, 3422024],\n",
       " 'company_city': [533, 3506846],\n",
       " 'company_country_code': [1, 3173096],\n",
       " 'company_name': [1, 3592246],\n",
       " 'company_permalink': [1, 4058708],\n",
       " 'company_region': [1, 3412505],\n",
       " 'company_state_code': [492, 3106971],\n",
       " 'funded_at': [3, 3543105],\n",
       " 'funded_month': [3, 3384504],\n",
       " 'funded_quarter': [3, 3384504],\n",
       " 'funded_year': [3, 423880],\n",
       " 'funding_round_type': [3, 3411627],\n",
       " 'investor_category_code': [50427, 623344],\n",
       " 'investor_city': [12480, 2886003],\n",
       " 'investor_country_code': [12001, 2648212],\n",
       " 'investor_name': [2, 3916586],\n",
       " 'investor_permalink': [2, 4981468],\n",
       " 'investor_region': [2, 3397201],\n",
       " 'investor_state_code': [16809, 2477527],\n",
       " 'raised_amount_usd': [3599, 423880]}"
      ]
     },
     "execution_count": 3,
     "metadata": {},
     "output_type": "execute_result"
    }
   ],
   "source": [
    "info_cols\n",
    "# format of the dict 'column name':[null-values,bytes]"
   ]
  },
  {
   "cell_type": "code",
   "execution_count": 4,
   "metadata": {
    "collapsed": false
   },
   "outputs": [
    {
     "data": {
      "text/plain": [
       "{'company_category_code': 'object',\n",
       " 'company_city': 'object',\n",
       " 'company_country_code': 'object',\n",
       " 'company_name': 'object',\n",
       " 'company_permalink': 'object',\n",
       " 'company_region': 'object',\n",
       " 'company_state_code': 'object',\n",
       " 'funded_at': 'object',\n",
       " 'funded_month': 'object',\n",
       " 'funded_quarter': 'object',\n",
       " 'funded_year': 'int64',\n",
       " 'funding_round_type': 'object',\n",
       " 'investor_category_code': 'object',\n",
       " 'investor_city': 'object',\n",
       " 'investor_country_code': 'object',\n",
       " 'investor_name': 'object',\n",
       " 'investor_permalink': 'object',\n",
       " 'investor_region': 'object',\n",
       " 'investor_state_code': 'object',\n",
       " 'raised_amount_usd': 'int64'}"
      ]
     },
     "execution_count": 4,
     "metadata": {},
     "output_type": "execute_result"
    }
   ],
   "source": [
    "col_types\n",
    "# Format of the dict 'column name':type"
   ]
  },
  {
   "cell_type": "code",
   "execution_count": 6,
   "metadata": {
    "collapsed": false
   },
   "outputs": [
    {
     "data": {
      "text/plain": [
       "{'company_category_code': 44,\n",
       " 'company_city': 1230,\n",
       " 'company_country_code': 3,\n",
       " 'company_name': 11574,\n",
       " 'company_permalink': 11574,\n",
       " 'company_region': 547,\n",
       " 'company_state_code': 51,\n",
       " 'funded_at': 2809,\n",
       " 'funded_month': 193,\n",
       " 'funded_quarter': 73,\n",
       " 'funding_round_type': 10,\n",
       " 'investor_category_code': 44,\n",
       " 'investor_city': 993,\n",
       " 'investor_country_code': 75,\n",
       " 'investor_name': 10466,\n",
       " 'investor_permalink': 10553,\n",
       " 'investor_region': 586,\n",
       " 'investor_state_code': 53}"
      ]
     },
     "execution_count": 6,
     "metadata": {},
     "output_type": "execute_result"
    }
   ],
   "source": [
    "# Unique values for object columns.\n",
    "obj_cols = []\n",
    "unique_values_object_column = {}\n",
    "\n",
    "chunk_iter = pd.read_csv(\"crunchbase-investments.csv\",\\\n",
    "                         chunksize = 5000,\\\n",
    "                        encoding='ISO-8859-1')\n",
    "\n",
    "for k,v in col_types.items():\n",
    "    if v == 'object':\n",
    "        obj_cols.append(k)\n",
    "        \n",
    "for col in obj_cols: \n",
    "    if col not in unique_values_object_column:\n",
    "        unique_values_object_column[col] = set()\n",
    "\n",
    "for chunk in chunk_iter:\n",
    "    for col in obj_cols:\n",
    "        unique_values = chunk[col].unique()\n",
    "        for value in unique_values:\n",
    "            unique_values_object_column[col].add(value)\n",
    "\n",
    "for k,v in unique_values_object_column.items():\n",
    "    unique_values_object_column[k] = len(v)\n",
    "    \n",
    "unique_values_object_column    \n",
    "# Format of the dict 'column object name': unique-values"
   ]
  },
  {
   "cell_type": "markdown",
   "metadata": {},
   "source": [
    "###### First conclusions: \n",
    "\n",
    "- Total memory usage of the data set: 57 Mb\n",
    "- Total rows of the data set: 52870\n",
    "- The numeric columns marked as int64 actually are float because every column has null values when we compute the full data-set. \n",
    "- Every object column have less than 50% of unique values. \n"
   ]
  },
  {
   "cell_type": "code",
   "execution_count": 7,
   "metadata": {
    "collapsed": false
   },
   "outputs": [
    {
     "data": {
      "text/plain": [
       "['funded_year', 'raised_amount_usd']"
      ]
     },
     "execution_count": 7,
     "metadata": {},
     "output_type": "execute_result"
    }
   ],
   "source": [
    "float_cols = []\n",
    "\n",
    "for k,v in col_types.items():\n",
    "    if v == 'int64':\n",
    "        float_cols.append(k)\n",
    "        \n",
    "float_cols"
   ]
  },
  {
   "cell_type": "markdown",
   "metadata": {
    "collapsed": true
   },
   "source": [
    "##### object columns to categoric columns: we can convert these columns into categories, but according to the type of information provided by the columns the following columns shouldn't be categorized:\n",
    "\n",
    "- 'company_name', 'company_permalink', 'funded_at', 'investor_name', 'investor_permalink'. "
   ]
  },
  {
   "cell_type": "code",
   "execution_count": 8,
   "metadata": {
    "collapsed": false
   },
   "outputs": [],
   "source": [
    "drop_columns = [\"funded_month\", \"funded_year\", \"funded_quarter\"]\n",
    "not_categoric = ['company_name', 'company_permalink', 'funded_at', 'investor_name', 'investor_permalink']\n",
    "to_categoric = ['funding_round_type','company_region','investor_state_code',\n",
    " 'investor_category_code',\n",
    " 'company_country_code',\n",
    " 'company_city','company_state_code',\n",
    " 'investor_country_code','company_category_code','investor_region',\n",
    " 'investor_city']\n"
   ]
  },
  {
   "cell_type": "code",
   "execution_count": 9,
   "metadata": {
    "collapsed": false
   },
   "outputs": [
    {
     "name": "stdout",
     "output_type": "stream",
     "text": [
      "Total memory usage for the data set:  21.34  Megabytes\n"
     ]
    }
   ],
   "source": [
    "# optimizing data types\n",
    "\n",
    "chunk_iter = pd.read_csv(\"crunchbase-investments.csv\",\\\n",
    "                         chunksize = 5000,\\\n",
    "                        encoding='ISO-8859-1')\n",
    "\n",
    "total_memory = 0\n",
    "\n",
    "for chunk in chunk_iter:\n",
    "    for col in float_cols:\n",
    "        chunk[col] = pd.to_numeric(chunk[col])\n",
    "        memory = chunk[col].memory_usage(deep=True)\n",
    "        total_memory += memory\n",
    "        \n",
    "    for col in to_categoric: \n",
    "        chunk[col] = chunk[col].astype('category')\n",
    "        memory = chunk[col].memory_usage(deep=True)\n",
    "        total_memory += memory\n",
    "    chunk[\"funded_at\"] = pd.to_datetime(chunk[\"funded_at\"])  \n",
    "    chunk.drop(columns=drop_columns, inplace=True)\n",
    "    memory = chunk.memory_usage(deep=True).sum()\n",
    "    total_memory += memory \n",
    "        \n",
    "print(\"Total memory usage for the data set: \",np.round(total_memory/(1024*1024),2),\" Megabytes\")"
   ]
  },
  {
   "cell_type": "code",
   "execution_count": 10,
   "metadata": {
    "collapsed": true
   },
   "outputs": [],
   "source": [
    "# Create and connect to a new SQLite database file.\n",
    "\n",
    "conn = sqlite3.connect('crunchbase.db')\n",
    "\n",
    "# optimizing data types\n",
    "\n",
    "\n",
    "chunk_iter = pd.read_csv(\"crunchbase-investments.csv\",\\\n",
    "                         chunksize = 5000,\\\n",
    "                        encoding='ISO-8859-1')\n",
    "\n",
    "for chunk in chunk_iter:\n",
    "    for col in float_cols:\n",
    "        chunk[col] = pd.to_numeric(chunk[col])\n",
    "        memory = chunk[col].memory_usage(deep=True)\n",
    "        total_memory += memory\n",
    "        \n",
    "    for col in to_categoric: \n",
    "        chunk[col] = chunk[col].astype('category')\n",
    "        \n",
    "    chunk[\"funded_at\"] = pd.to_datetime(chunk[\"funded_at\"])  \n",
    "    chunk.drop(columns=drop_columns, inplace=True)\n",
    "    \n",
    "    chunk.to_sql('exhibitions',conn,if_exists='append',index=False) \n"
   ]
  },
  {
   "cell_type": "code",
   "execution_count": 11,
   "metadata": {
    "collapsed": false
   },
   "outputs": [
    {
     "data": {
      "text/html": [
       "<div>\n",
       "<style scoped>\n",
       "    .dataframe tbody tr th:only-of-type {\n",
       "        vertical-align: middle;\n",
       "    }\n",
       "\n",
       "    .dataframe tbody tr th {\n",
       "        vertical-align: top;\n",
       "    }\n",
       "\n",
       "    .dataframe thead th {\n",
       "        text-align: right;\n",
       "    }\n",
       "</style>\n",
       "<table border=\"1\" class=\"dataframe\">\n",
       "  <thead>\n",
       "    <tr style=\"text-align: right;\">\n",
       "      <th></th>\n",
       "      <th>cid</th>\n",
       "      <th>name</th>\n",
       "      <th>type</th>\n",
       "      <th>notnull</th>\n",
       "      <th>dflt_value</th>\n",
       "      <th>pk</th>\n",
       "    </tr>\n",
       "  </thead>\n",
       "  <tbody>\n",
       "    <tr>\n",
       "      <th>0</th>\n",
       "      <td>0</td>\n",
       "      <td>company_permalink</td>\n",
       "      <td>TEXT</td>\n",
       "      <td>0</td>\n",
       "      <td>None</td>\n",
       "      <td>0</td>\n",
       "    </tr>\n",
       "    <tr>\n",
       "      <th>1</th>\n",
       "      <td>1</td>\n",
       "      <td>company_name</td>\n",
       "      <td>TEXT</td>\n",
       "      <td>0</td>\n",
       "      <td>None</td>\n",
       "      <td>0</td>\n",
       "    </tr>\n",
       "    <tr>\n",
       "      <th>2</th>\n",
       "      <td>2</td>\n",
       "      <td>company_category_code</td>\n",
       "      <td>TEXT</td>\n",
       "      <td>0</td>\n",
       "      <td>None</td>\n",
       "      <td>0</td>\n",
       "    </tr>\n",
       "    <tr>\n",
       "      <th>3</th>\n",
       "      <td>3</td>\n",
       "      <td>company_country_code</td>\n",
       "      <td>TEXT</td>\n",
       "      <td>0</td>\n",
       "      <td>None</td>\n",
       "      <td>0</td>\n",
       "    </tr>\n",
       "    <tr>\n",
       "      <th>4</th>\n",
       "      <td>4</td>\n",
       "      <td>company_state_code</td>\n",
       "      <td>TEXT</td>\n",
       "      <td>0</td>\n",
       "      <td>None</td>\n",
       "      <td>0</td>\n",
       "    </tr>\n",
       "    <tr>\n",
       "      <th>5</th>\n",
       "      <td>5</td>\n",
       "      <td>company_region</td>\n",
       "      <td>TEXT</td>\n",
       "      <td>0</td>\n",
       "      <td>None</td>\n",
       "      <td>0</td>\n",
       "    </tr>\n",
       "    <tr>\n",
       "      <th>6</th>\n",
       "      <td>6</td>\n",
       "      <td>company_city</td>\n",
       "      <td>TEXT</td>\n",
       "      <td>0</td>\n",
       "      <td>None</td>\n",
       "      <td>0</td>\n",
       "    </tr>\n",
       "    <tr>\n",
       "      <th>7</th>\n",
       "      <td>7</td>\n",
       "      <td>investor_permalink</td>\n",
       "      <td>TEXT</td>\n",
       "      <td>0</td>\n",
       "      <td>None</td>\n",
       "      <td>0</td>\n",
       "    </tr>\n",
       "    <tr>\n",
       "      <th>8</th>\n",
       "      <td>8</td>\n",
       "      <td>investor_name</td>\n",
       "      <td>TEXT</td>\n",
       "      <td>0</td>\n",
       "      <td>None</td>\n",
       "      <td>0</td>\n",
       "    </tr>\n",
       "    <tr>\n",
       "      <th>9</th>\n",
       "      <td>9</td>\n",
       "      <td>investor_category_code</td>\n",
       "      <td>TEXT</td>\n",
       "      <td>0</td>\n",
       "      <td>None</td>\n",
       "      <td>0</td>\n",
       "    </tr>\n",
       "    <tr>\n",
       "      <th>10</th>\n",
       "      <td>10</td>\n",
       "      <td>investor_country_code</td>\n",
       "      <td>TEXT</td>\n",
       "      <td>0</td>\n",
       "      <td>None</td>\n",
       "      <td>0</td>\n",
       "    </tr>\n",
       "    <tr>\n",
       "      <th>11</th>\n",
       "      <td>11</td>\n",
       "      <td>investor_state_code</td>\n",
       "      <td>TEXT</td>\n",
       "      <td>0</td>\n",
       "      <td>None</td>\n",
       "      <td>0</td>\n",
       "    </tr>\n",
       "    <tr>\n",
       "      <th>12</th>\n",
       "      <td>12</td>\n",
       "      <td>investor_region</td>\n",
       "      <td>TEXT</td>\n",
       "      <td>0</td>\n",
       "      <td>None</td>\n",
       "      <td>0</td>\n",
       "    </tr>\n",
       "    <tr>\n",
       "      <th>13</th>\n",
       "      <td>13</td>\n",
       "      <td>investor_city</td>\n",
       "      <td>TEXT</td>\n",
       "      <td>0</td>\n",
       "      <td>None</td>\n",
       "      <td>0</td>\n",
       "    </tr>\n",
       "    <tr>\n",
       "      <th>14</th>\n",
       "      <td>14</td>\n",
       "      <td>funding_round_type</td>\n",
       "      <td>TEXT</td>\n",
       "      <td>0</td>\n",
       "      <td>None</td>\n",
       "      <td>0</td>\n",
       "    </tr>\n",
       "    <tr>\n",
       "      <th>15</th>\n",
       "      <td>15</td>\n",
       "      <td>funded_at</td>\n",
       "      <td>TIMESTAMP</td>\n",
       "      <td>0</td>\n",
       "      <td>None</td>\n",
       "      <td>0</td>\n",
       "    </tr>\n",
       "    <tr>\n",
       "      <th>16</th>\n",
       "      <td>16</td>\n",
       "      <td>raised_amount_usd</td>\n",
       "      <td>REAL</td>\n",
       "      <td>0</td>\n",
       "      <td>None</td>\n",
       "      <td>0</td>\n",
       "    </tr>\n",
       "  </tbody>\n",
       "</table>\n",
       "</div>"
      ],
      "text/plain": [
       "    cid                    name       type  notnull dflt_value  pk\n",
       "0     0       company_permalink       TEXT        0       None   0\n",
       "1     1            company_name       TEXT        0       None   0\n",
       "2     2   company_category_code       TEXT        0       None   0\n",
       "3     3    company_country_code       TEXT        0       None   0\n",
       "4     4      company_state_code       TEXT        0       None   0\n",
       "5     5          company_region       TEXT        0       None   0\n",
       "6     6            company_city       TEXT        0       None   0\n",
       "7     7      investor_permalink       TEXT        0       None   0\n",
       "8     8           investor_name       TEXT        0       None   0\n",
       "9     9  investor_category_code       TEXT        0       None   0\n",
       "10   10   investor_country_code       TEXT        0       None   0\n",
       "11   11     investor_state_code       TEXT        0       None   0\n",
       "12   12         investor_region       TEXT        0       None   0\n",
       "13   13           investor_city       TEXT        0       None   0\n",
       "14   14      funding_round_type       TEXT        0       None   0\n",
       "15   15               funded_at  TIMESTAMP        0       None   0\n",
       "16   16       raised_amount_usd       REAL        0       None   0"
      ]
     },
     "execution_count": 11,
     "metadata": {},
     "output_type": "execute_result"
    }
   ],
   "source": [
    "results_df = pd.read_sql('PRAGMA table_info(exhibitions);',conn)\n",
    "results_df"
   ]
  },
  {
   "cell_type": "code",
   "execution_count": 12,
   "metadata": {
    "collapsed": false
   },
   "outputs": [
    {
     "name": "stdout",
     "output_type": "stream",
     "text": [
      "   10318   572854 20422656 crunchbase.db\r\n"
     ]
    }
   ],
   "source": [
    "!wc crunchbase.db"
   ]
  },
  {
   "cell_type": "markdown",
   "metadata": {},
   "source": [
    "a) What proportion of the total amount of funds did the top 10% raise? \n",
    "b) What about the top 1%? \n",
    "c) Compare these values to the proportions the bottom 10% and bottom 1% raised."
   ]
  },
  {
   "cell_type": "code",
   "execution_count": 32,
   "metadata": {
    "collapsed": false
   },
   "outputs": [],
   "source": [
    "query1 = 'SELECT SUM(raised_amount_usd) FROM exhibitions'\n",
    "\n",
    "query2 = 'SELECT company_name, COUNT(company_name) FROM exhibitions GROUP BY company_name'\n",
    "\n",
    "query3 = 'SELECT CAST(SUM(raised_amount_usd) as Float) total_raise, company_name FROM exhibitions \\\n",
    "GROUP BY company_name ORDER BY total_raise DESC LIMIT {0};'\n",
    "\n",
    "query4 = 'SELECT CAST(SUM(raised_amount_usd) as Float) total_raise, company_name FROM exhibitions \\\n",
    "GROUP BY company_name ORDER BY total_raise ASC LIMIT {0};'\n",
    "\n",
    "\n",
    "total_amount = pd.read_sql(query1,conn)\n",
    "total_companies = pd.read_sql(query2,conn).shape[0]\n",
    "ten_percent_companies = int(total_companies*0.1)\n",
    "\n",
    "preg_a_top = pd.read_sql(query3.format(ten_percent_companies),conn)\n",
    "preg_a_bottom = pd.read_sql(query4.format(ten_percent_companies),conn)"
   ]
  },
  {
   "cell_type": "code",
   "execution_count": 38,
   "metadata": {
    "collapsed": false
   },
   "outputs": [
    {
     "name": "stdout",
     "output_type": "stream",
     "text": [
      "proportion of the total amount of funds did the top 10% raise?\n",
      "   SUM(raised_amount_usd)\n",
      "0               67.127727\n",
      " \n",
      "What about the top 1%?\n",
      "   SUM(raised_amount_usd)\n",
      "0               25.835418\n"
     ]
    }
   ],
   "source": [
    "# Answer: \n",
    "\n",
    "print(\"proportion of the total amount of funds did the top 10% raise?\")\n",
    "print(preg_a_top[\"total_raise\"].sum()*100/total_amount)\n",
    "print(\" \")\n",
    "print(\"What about the top 1%?\")\n",
    "print(preg_a_top.loc[:110,\"total_raise\"].sum()*100/total_amount)\n"
   ]
  },
  {
   "cell_type": "code",
   "execution_count": 37,
   "metadata": {
    "collapsed": false
   },
   "outputs": [
    {
     "data": {
      "text/html": [
       "<div>\n",
       "<style scoped>\n",
       "    .dataframe tbody tr th:only-of-type {\n",
       "        vertical-align: middle;\n",
       "    }\n",
       "\n",
       "    .dataframe tbody tr th {\n",
       "        vertical-align: top;\n",
       "    }\n",
       "\n",
       "    .dataframe thead th {\n",
       "        text-align: right;\n",
       "    }\n",
       "</style>\n",
       "<table border=\"1\" class=\"dataframe\">\n",
       "  <thead>\n",
       "    <tr style=\"text-align: right;\">\n",
       "      <th></th>\n",
       "      <th>SUM(raised_amount_usd)</th>\n",
       "    </tr>\n",
       "  </thead>\n",
       "  <tbody>\n",
       "    <tr>\n",
       "      <th>0</th>\n",
       "      <td>25.835418</td>\n",
       "    </tr>\n",
       "  </tbody>\n",
       "</table>\n",
       "</div>"
      ],
      "text/plain": [
       "   SUM(raised_amount_usd)\n",
       "0               25.835418"
      ]
     },
     "execution_count": 37,
     "metadata": {},
     "output_type": "execute_result"
    }
   ],
   "source": [
    "preg_a_top.loc[:110,\"total_raise\"].sum()*100/total_amount"
   ]
  },
  {
   "cell_type": "markdown",
   "metadata": {},
   "source": [
    "##### Which category of company attracted the most investments?"
   ]
  },
  {
   "cell_type": "code",
   "execution_count": 40,
   "metadata": {
    "collapsed": false
   },
   "outputs": [
    {
     "data": {
      "text/html": [
       "<div>\n",
       "<style scoped>\n",
       "    .dataframe tbody tr th:only-of-type {\n",
       "        vertical-align: middle;\n",
       "    }\n",
       "\n",
       "    .dataframe tbody tr th {\n",
       "        vertical-align: top;\n",
       "    }\n",
       "\n",
       "    .dataframe thead th {\n",
       "        text-align: right;\n",
       "    }\n",
       "</style>\n",
       "<table border=\"1\" class=\"dataframe\">\n",
       "  <thead>\n",
       "    <tr style=\"text-align: right;\">\n",
       "      <th></th>\n",
       "      <th>total_raise</th>\n",
       "      <th>company_category_code</th>\n",
       "    </tr>\n",
       "  </thead>\n",
       "  <tbody>\n",
       "    <tr>\n",
       "      <th>0</th>\n",
       "      <td>2.207928e+11</td>\n",
       "      <td>biotech</td>\n",
       "    </tr>\n",
       "    <tr>\n",
       "      <th>1</th>\n",
       "      <td>1.461690e+11</td>\n",
       "      <td>software</td>\n",
       "    </tr>\n",
       "    <tr>\n",
       "      <th>2</th>\n",
       "      <td>1.295548e+11</td>\n",
       "      <td>mobile</td>\n",
       "    </tr>\n",
       "    <tr>\n",
       "      <th>3</th>\n",
       "      <td>1.054105e+11</td>\n",
       "      <td>cleantech</td>\n",
       "    </tr>\n",
       "    <tr>\n",
       "      <th>4</th>\n",
       "      <td>9.172185e+10</td>\n",
       "      <td>enterprise</td>\n",
       "    </tr>\n",
       "    <tr>\n",
       "      <th>5</th>\n",
       "      <td>8.028653e+10</td>\n",
       "      <td>web</td>\n",
       "    </tr>\n",
       "    <tr>\n",
       "      <th>6</th>\n",
       "      <td>5.073421e+10</td>\n",
       "      <td>medical</td>\n",
       "    </tr>\n",
       "    <tr>\n",
       "      <th>7</th>\n",
       "      <td>5.015332e+10</td>\n",
       "      <td>advertising</td>\n",
       "    </tr>\n",
       "    <tr>\n",
       "      <th>8</th>\n",
       "      <td>4.513444e+10</td>\n",
       "      <td>ecommerce</td>\n",
       "    </tr>\n",
       "    <tr>\n",
       "      <th>9</th>\n",
       "      <td>4.483937e+10</td>\n",
       "      <td>network_hosting</td>\n",
       "    </tr>\n",
       "  </tbody>\n",
       "</table>\n",
       "</div>"
      ],
      "text/plain": [
       "    total_raise company_category_code\n",
       "0  2.207928e+11               biotech\n",
       "1  1.461690e+11              software\n",
       "2  1.295548e+11                mobile\n",
       "3  1.054105e+11             cleantech\n",
       "4  9.172185e+10            enterprise\n",
       "5  8.028653e+10                   web\n",
       "6  5.073421e+10               medical\n",
       "7  5.015332e+10           advertising\n",
       "8  4.513444e+10             ecommerce\n",
       "9  4.483937e+10       network_hosting"
      ]
     },
     "execution_count": 40,
     "metadata": {},
     "output_type": "execute_result"
    }
   ],
   "source": [
    "query5 = 'SELECT CAST(SUM(raised_amount_usd) as Float) total_raise, company_category_code FROM exhibitions \\\n",
    "GROUP BY company_category_code ORDER BY total_raise DESC LIMIT 10;'\n",
    "\n",
    "preg_b = pd.read_sql(query5,conn)\n",
    "preg_b"
   ]
  },
  {
   "cell_type": "markdown",
   "metadata": {},
   "source": [
    "##### Which investor contributed the most money (across all startups)?"
   ]
  },
  {
   "cell_type": "code",
   "execution_count": 41,
   "metadata": {
    "collapsed": false
   },
   "outputs": [
    {
     "data": {
      "text/html": [
       "<div>\n",
       "<style scoped>\n",
       "    .dataframe tbody tr th:only-of-type {\n",
       "        vertical-align: middle;\n",
       "    }\n",
       "\n",
       "    .dataframe tbody tr th {\n",
       "        vertical-align: top;\n",
       "    }\n",
       "\n",
       "    .dataframe thead th {\n",
       "        text-align: right;\n",
       "    }\n",
       "</style>\n",
       "<table border=\"1\" class=\"dataframe\">\n",
       "  <thead>\n",
       "    <tr style=\"text-align: right;\">\n",
       "      <th></th>\n",
       "      <th>total_raise</th>\n",
       "      <th>investor_name</th>\n",
       "    </tr>\n",
       "  </thead>\n",
       "  <tbody>\n",
       "    <tr>\n",
       "      <th>0</th>\n",
       "      <td>2.243565e+10</td>\n",
       "      <td>Kleiner Perkins Caufield &amp; Byers</td>\n",
       "    </tr>\n",
       "    <tr>\n",
       "      <th>1</th>\n",
       "      <td>1.938508e+10</td>\n",
       "      <td>New Enterprise Associates</td>\n",
       "    </tr>\n",
       "    <tr>\n",
       "      <th>2</th>\n",
       "      <td>1.294425e+10</td>\n",
       "      <td>Accel Partners</td>\n",
       "    </tr>\n",
       "    <tr>\n",
       "      <th>3</th>\n",
       "      <td>1.275092e+10</td>\n",
       "      <td>Goldman Sachs</td>\n",
       "    </tr>\n",
       "    <tr>\n",
       "      <th>4</th>\n",
       "      <td>1.207880e+10</td>\n",
       "      <td>Sequoia Capital</td>\n",
       "    </tr>\n",
       "    <tr>\n",
       "      <th>5</th>\n",
       "      <td>1.193840e+10</td>\n",
       "      <td>Intel</td>\n",
       "    </tr>\n",
       "    <tr>\n",
       "      <th>6</th>\n",
       "      <td>1.161760e+10</td>\n",
       "      <td>Google</td>\n",
       "    </tr>\n",
       "    <tr>\n",
       "      <th>7</th>\n",
       "      <td>1.146000e+10</td>\n",
       "      <td>Time Warner</td>\n",
       "    </tr>\n",
       "    <tr>\n",
       "      <th>8</th>\n",
       "      <td>1.133800e+10</td>\n",
       "      <td>Comcast</td>\n",
       "    </tr>\n",
       "    <tr>\n",
       "      <th>9</th>\n",
       "      <td>9.921966e+09</td>\n",
       "      <td>Greylock Partners</td>\n",
       "    </tr>\n",
       "  </tbody>\n",
       "</table>\n",
       "</div>"
      ],
      "text/plain": [
       "    total_raise                     investor_name\n",
       "0  2.243565e+10  Kleiner Perkins Caufield & Byers\n",
       "1  1.938508e+10         New Enterprise Associates\n",
       "2  1.294425e+10                    Accel Partners\n",
       "3  1.275092e+10                     Goldman Sachs\n",
       "4  1.207880e+10                   Sequoia Capital\n",
       "5  1.193840e+10                             Intel\n",
       "6  1.161760e+10                            Google\n",
       "7  1.146000e+10                       Time Warner\n",
       "8  1.133800e+10                           Comcast\n",
       "9  9.921966e+09                 Greylock Partners"
      ]
     },
     "execution_count": 41,
     "metadata": {},
     "output_type": "execute_result"
    }
   ],
   "source": [
    "query6 = 'SELECT CAST(SUM(raised_amount_usd) as Float) total_raise, investor_name FROM exhibitions \\\n",
    "GROUP BY investor_name ORDER BY total_raise DESC LIMIT 10;'\n",
    "\n",
    "preg_c = pd.read_sql(query6,conn)\n",
    "preg_c"
   ]
  },
  {
   "cell_type": "markdown",
   "metadata": {},
   "source": [
    "##### Which investors contributed the most money per startup?"
   ]
  },
  {
   "cell_type": "code",
   "execution_count": 42,
   "metadata": {
    "collapsed": false
   },
   "outputs": [
    {
     "data": {
      "text/html": [
       "<div>\n",
       "<style scoped>\n",
       "    .dataframe tbody tr th:only-of-type {\n",
       "        vertical-align: middle;\n",
       "    }\n",
       "\n",
       "    .dataframe tbody tr th {\n",
       "        vertical-align: top;\n",
       "    }\n",
       "\n",
       "    .dataframe thead th {\n",
       "        text-align: right;\n",
       "    }\n",
       "</style>\n",
       "<table border=\"1\" class=\"dataframe\">\n",
       "  <thead>\n",
       "    <tr style=\"text-align: right;\">\n",
       "      <th></th>\n",
       "      <th>total_raise</th>\n",
       "      <th>investor_name</th>\n",
       "      <th>company_name</th>\n",
       "    </tr>\n",
       "  </thead>\n",
       "  <tbody>\n",
       "    <tr>\n",
       "      <th>0</th>\n",
       "      <td>5.936000e+10</td>\n",
       "      <td>Eagle River Holdings</td>\n",
       "      <td>Clearwire</td>\n",
       "    </tr>\n",
       "    <tr>\n",
       "      <th>1</th>\n",
       "      <td>2.037080e+10</td>\n",
       "      <td>Ted Leonsis</td>\n",
       "      <td>Groupon</td>\n",
       "    </tr>\n",
       "    <tr>\n",
       "      <th>2</th>\n",
       "      <td>9.010000e+09</td>\n",
       "      <td>Christian Reitberger</td>\n",
       "      <td>Nanosolar</td>\n",
       "    </tr>\n",
       "    <tr>\n",
       "      <th>3</th>\n",
       "      <td>8.308200e+09</td>\n",
       "      <td>Reid Hoffman</td>\n",
       "      <td>Facebook</td>\n",
       "    </tr>\n",
       "    <tr>\n",
       "      <th>4</th>\n",
       "      <td>6.500000e+09</td>\n",
       "      <td>Dave Goldberg</td>\n",
       "      <td>SurveyMonkey</td>\n",
       "    </tr>\n",
       "    <tr>\n",
       "      <th>5</th>\n",
       "      <td>5.772026e+09</td>\n",
       "      <td>Reid Hoffman</td>\n",
       "      <td>Zynga</td>\n",
       "    </tr>\n",
       "    <tr>\n",
       "      <th>6</th>\n",
       "      <td>5.576000e+09</td>\n",
       "      <td>U.S. Department of Energy</td>\n",
       "      <td>Fisker Automotive</td>\n",
       "    </tr>\n",
       "    <tr>\n",
       "      <th>7</th>\n",
       "      <td>5.528800e+09</td>\n",
       "      <td>Pejman Nozad</td>\n",
       "      <td>Dropbox</td>\n",
       "    </tr>\n",
       "    <tr>\n",
       "      <th>8</th>\n",
       "      <td>5.370000e+09</td>\n",
       "      <td>Steve Case</td>\n",
       "      <td>LivingSocial</td>\n",
       "    </tr>\n",
       "    <tr>\n",
       "      <th>9</th>\n",
       "      <td>5.200000e+09</td>\n",
       "      <td>Marlin Equity Partners</td>\n",
       "      <td>sigmacare</td>\n",
       "    </tr>\n",
       "  </tbody>\n",
       "</table>\n",
       "</div>"
      ],
      "text/plain": [
       "    total_raise              investor_name       company_name\n",
       "0  5.936000e+10       Eagle River Holdings          Clearwire\n",
       "1  2.037080e+10                Ted Leonsis            Groupon\n",
       "2  9.010000e+09       Christian Reitberger          Nanosolar\n",
       "3  8.308200e+09               Reid Hoffman           Facebook\n",
       "4  6.500000e+09              Dave Goldberg       SurveyMonkey\n",
       "5  5.772026e+09               Reid Hoffman              Zynga\n",
       "6  5.576000e+09  U.S. Department of Energy  Fisker Automotive\n",
       "7  5.528800e+09               Pejman Nozad            Dropbox\n",
       "8  5.370000e+09                 Steve Case       LivingSocial\n",
       "9  5.200000e+09     Marlin Equity Partners          sigmacare"
      ]
     },
     "execution_count": 42,
     "metadata": {},
     "output_type": "execute_result"
    }
   ],
   "source": [
    "query7 = 'SELECT CAST(SUM(raised_amount_usd) as Float) total_raise, investor_name, company_name FROM exhibitions \\\n",
    "GROUP BY company_name ORDER BY total_raise DESC LIMIT 10;'\n",
    "\n",
    "preg_d = pd.read_sql(query7,conn)\n",
    "preg_d"
   ]
  },
  {
   "cell_type": "markdown",
   "metadata": {},
   "source": [
    "funding_round_type\n",
    "##### Which funding round was the most popular? Which was the least popular?"
   ]
  },
  {
   "cell_type": "code",
   "execution_count": 44,
   "metadata": {
    "collapsed": false
   },
   "outputs": [
    {
     "data": {
      "text/html": [
       "<div>\n",
       "<style scoped>\n",
       "    .dataframe tbody tr th:only-of-type {\n",
       "        vertical-align: middle;\n",
       "    }\n",
       "\n",
       "    .dataframe tbody tr th {\n",
       "        vertical-align: top;\n",
       "    }\n",
       "\n",
       "    .dataframe thead th {\n",
       "        text-align: right;\n",
       "    }\n",
       "</style>\n",
       "<table border=\"1\" class=\"dataframe\">\n",
       "  <thead>\n",
       "    <tr style=\"text-align: right;\">\n",
       "      <th></th>\n",
       "      <th>popularity</th>\n",
       "      <th>funding_round_type</th>\n",
       "    </tr>\n",
       "  </thead>\n",
       "  <tbody>\n",
       "    <tr>\n",
       "      <th>0</th>\n",
       "      <td>27876</td>\n",
       "      <td>series-a</td>\n",
       "    </tr>\n",
       "    <tr>\n",
       "      <th>1</th>\n",
       "      <td>21740</td>\n",
       "      <td>series-c+</td>\n",
       "    </tr>\n",
       "    <tr>\n",
       "      <th>2</th>\n",
       "      <td>17978</td>\n",
       "      <td>angel</td>\n",
       "    </tr>\n",
       "    <tr>\n",
       "      <th>3</th>\n",
       "      <td>17834</td>\n",
       "      <td>venture</td>\n",
       "    </tr>\n",
       "    <tr>\n",
       "      <th>4</th>\n",
       "      <td>17588</td>\n",
       "      <td>series-b</td>\n",
       "    </tr>\n",
       "    <tr>\n",
       "      <th>5</th>\n",
       "      <td>1928</td>\n",
       "      <td>other</td>\n",
       "    </tr>\n",
       "    <tr>\n",
       "      <th>6</th>\n",
       "      <td>714</td>\n",
       "      <td>private-equity</td>\n",
       "    </tr>\n",
       "    <tr>\n",
       "      <th>7</th>\n",
       "      <td>66</td>\n",
       "      <td>post-ipo</td>\n",
       "    </tr>\n",
       "    <tr>\n",
       "      <th>8</th>\n",
       "      <td>10</td>\n",
       "      <td>crowdfunding</td>\n",
       "    </tr>\n",
       "    <tr>\n",
       "      <th>9</th>\n",
       "      <td>2</td>\n",
       "      <td>None</td>\n",
       "    </tr>\n",
       "  </tbody>\n",
       "</table>\n",
       "</div>"
      ],
      "text/plain": [
       "   popularity funding_round_type\n",
       "0       27876           series-a\n",
       "1       21740          series-c+\n",
       "2       17978              angel\n",
       "3       17834            venture\n",
       "4       17588           series-b\n",
       "5        1928              other\n",
       "6         714     private-equity\n",
       "7          66           post-ipo\n",
       "8          10       crowdfunding\n",
       "9           2               None"
      ]
     },
     "execution_count": 44,
     "metadata": {},
     "output_type": "execute_result"
    }
   ],
   "source": [
    "query8 = 'SELECT COUNT(investor_name) popularity, funding_round_type FROM exhibitions \\\n",
    "GROUP BY funding_round_type ORDER BY popularity DESC LIMIT 10;'\n",
    "\n",
    "preg_e = pd.read_sql(query8,conn)\n",
    "preg_e"
   ]
  },
  {
   "cell_type": "code",
   "execution_count": null,
   "metadata": {
    "collapsed": true
   },
   "outputs": [],
   "source": []
  }
 ],
 "metadata": {
  "anaconda-cloud": {},
  "kernelspec": {
   "display_name": "Python 3",
   "language": "python",
   "name": "python3"
  },
  "language_info": {
   "codemirror_mode": {
    "name": "ipython",
    "version": 3
   },
   "file_extension": ".py",
   "mimetype": "text/x-python",
   "name": "python",
   "nbconvert_exporter": "python",
   "pygments_lexer": "ipython3",
   "version": "3.4.3"
  }
 },
 "nbformat": 4,
 "nbformat_minor": 2
}
