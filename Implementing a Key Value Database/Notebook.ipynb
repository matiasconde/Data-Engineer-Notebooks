{
 "cells": [
  {
   "cell_type": "markdown",
   "metadata": {},
   "source": [
    "# Using the b-tree data structure as the building block for a fully functioning, saving-to-disk, key-value store."
   ]
  },
  {
   "cell_type": "code",
   "execution_count": 12,
   "metadata": {
    "collapsed": false
   },
   "outputs": [],
   "source": [
    "#from btree import NodeKey,Node,BTree\n",
    "import pickle"
   ]
  },
  {
   "cell_type": "code",
   "execution_count": 17,
   "metadata": {
    "collapsed": false
   },
   "outputs": [],
   "source": [
    "class DQKV(BTree):\n",
    "    def __init__(self, key_type, t):\n",
    "        self.key_type = key_type\n",
    "        self.t = t\n",
    "        super().__init__(t)\n",
    "        \n",
    "    def set(self, key):\n",
    "        if isinstance(key,key_type):\n",
    "            if value:\n",
    "                finding = self.search(self.root, key)\n",
    "                if finding is not None:\n",
    "                    raise ValueError(\"the key already exists\")\n",
    "                else: \n",
    "                    self.insert(NodeKey(key, value))\n",
    "    \n",
    "    def get(self,key):\n",
    "        finding = self.search(self.root, key)\n",
    "        if not finding:\n",
    "            raise ValueError(\"the key doesn't exists\")\n",
    "        else:\n",
    "            return finding\n",
    "        \n",
    "    def range_query(self, range_values, inclusive=False):\n",
    "        if not isinstance(range_values,list):\n",
    "            raise ValueError(\"range_values must be a list type\")\n",
    "        else:\n",
    "            if None == range_values[len(range_values)-1]:\n",
    "                return self.greater_than(self.root, range_values[0],\\\n",
    "                                 upper_bound = None,\\\n",
    "                                 inclusive=inclusive)\n",
    "            elif None == range_values[0]:\n",
    "                return self.less_than(self.root, range_values[0],\\\n",
    "                                 lower_bound = None,\\\n",
    "                                 inclusive=inclusive)\n",
    "            elif None not in range_values:\n",
    "                return self.greater_than(self.root, range_values[0],\\\n",
    "                                        upper_bound = \\\n",
    "                    range_values[len(range_values)-1],\\\n",
    "                                        inclusive=inclusive)\n",
    "            def dump(self, file_name):\n",
    "                with open('{}.pickle'.format(file_name), 'wb') as f:\n",
    "                    pickle.dump(self, f)\n",
    "                    \n",
    "            def load_from_dict(self, dic):\n",
    "                if dic == {}:\n",
    "                    raise ValueError(\"empty dictionary was passed\")\n",
    "                else: \n",
    "                    for k,v in dic.items():\n",
    "                        key = NodeKey(k,v)\n",
    "                        self.set(key)                      \n",
    "            \n",
    "def load(file_name):\n",
    "    with open('{}.pickle'.format(file_name),\"rb\") as f: \n",
    "        dqkv_loaded = pickle.load(f)\n",
    "        return dqkv_loaded\n",
    "                                "
   ]
  },
  {
   "cell_type": "markdown",
   "metadata": {
    "collapsed": true
   },
   "source": [
    "##### Next Steps: \n",
    "\n",
    "\n",
    "-    Enhancing the API and making it look more \"Pythonic\" using special methods for set and get.\n",
    "-    A different serializer so that you can use different versions of Python\n",
    "        Something like JSON might work.\n",
    "-    A delete method that would remove nodes from the kv store.\n",
    "-    Saving out to multiple files using the keys as pointers to files for bigger databases.\n",
    "-    Implementing the kv store on top of a B+Tree, another variation of the b-tree family of data structures.\n",
    "\n"
   ]
  },
  {
   "cell_type": "code",
   "execution_count": null,
   "metadata": {
    "collapsed": true
   },
   "outputs": [],
   "source": []
  }
 ],
 "metadata": {
  "kernelspec": {
   "display_name": "Python 3",
   "language": "python",
   "name": "python3"
  },
  "language_info": {
   "codemirror_mode": {
    "name": "ipython",
    "version": 3
   },
   "file_extension": ".py",
   "mimetype": "text/x-python",
   "name": "python",
   "nbconvert_exporter": "python",
   "pygments_lexer": "ipython3",
   "version": "3.4.3"
  }
 },
 "nbformat": 4,
 "nbformat_minor": 0
}
